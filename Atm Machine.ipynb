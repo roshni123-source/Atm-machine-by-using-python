{
 "cells": [
  {
   "cell_type": "code",
   "execution_count": 1,
   "id": "a1bea324",
   "metadata": {},
   "outputs": [
    {
     "name": "stdout",
     "output_type": "stream",
     "text": [
      "how can we help you? press 1 for check balance, press 2 for deposit, press 3 for withdraw1\n",
      "your balance is 10000\n"
     ]
    }
   ],
   "source": [
    "# atm machine\n",
    "balance=10000\n",
    "user=int(input('how can we help you? press 1 for check balance, press 2 for deposit, press 3 for withdraw'))\n",
    "if (user==1):\n",
    "    print('your balance is',balance)\n",
    "elif (user==2):\n",
    "    dep=int(input('enter your deposit amount'))\n",
    "    balance=balance+dep\n",
    "elif (user==3):\n",
    "    wit=int(input('enter how much you want to withdraw'))\n",
    "    balance = balance - wit\n",
    "elif (user==4):\n",
    "     print('exit')\n",
    "    \n",
    "            \n",
    "    \n"
   ]
  },
  {
   "cell_type": "code",
   "execution_count": null,
   "id": "cdb4da5f",
   "metadata": {},
   "outputs": [],
   "source": []
  }
 ],
 "metadata": {
  "kernelspec": {
   "display_name": "Python 3",
   "language": "python",
   "name": "python3"
  },
  "language_info": {
   "codemirror_mode": {
    "name": "ipython",
    "version": 3
   },
   "file_extension": ".py",
   "mimetype": "text/x-python",
   "name": "python",
   "nbconvert_exporter": "python",
   "pygments_lexer": "ipython3",
   "version": "3.8.8"
  }
 },
 "nbformat": 4,
 "nbformat_minor": 5
}
